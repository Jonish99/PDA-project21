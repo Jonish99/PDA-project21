{
 "cells": [
  {
   "cell_type": "markdown",
   "id": "8e4f2f70-6414-4be7-9ecd-444b59d2925c",
   "metadata": {},
   "source": [
    "## GMIT Jon Ishaque G0030398244\n",
    "## Programming for Data Analysis Project 2021\n",
    "## An investigation into factors which may lead to alcoholism and simulation of a matching data set.\n",
    "\n",
    "• Choose a real-world phenomenon that can be measured and for which you could\n",
    "collect at least one-hundred data points across at least four different variables.\n",
    "\n",
    "• Investigate the types of variables involved, their likely distributions, and their\n",
    "relationships with each other.\n",
    "\n",
    "• Synthesise/simulate a data set as closely matching their properties as possible.\n",
    "\n",
    "• Detail your research and implement the simulation in a Jupyter notebook – the\n",
    "data set itself can simply be displayed in an output cell within the notebook.\n",
    "\n",
    "### Introduction\n",
    "For this the real world phenonemon I have chose to investigate factors influencing the diaganosis of alcolholism. I will investigate a range of factors that may cause alcoholism and simulate a dataset from that.\n",
    "The dataset will represent a simulated sample of subjects each of whom have been diagnosed as suffering from alcoholism. For each subject I will simulated a measure for the each given influecing factor, which follows a particular data distributin.\n",
    "\n",
    "### Investigation into factors that may cause alcoholism.\n",
    "\"There is no singular cause of alcoholism. In fact, there are dozens of risk factors that play a role in the development of an alcohol addiction. These risk factors interact differently in every individual, leading to alcohol use disorders in some and not in others.\" (Malibu, 2021)\n",
    "\n",
    "### Factors that could contribute to alcoholims included:\n",
    "\n",
    "##### Familial/genetic factors - i.e. social or biological inheritance. \n",
    "For example, one or more parent had alcoholism.\n",
    "\n",
    "##### Age \n",
    "Age is an impontant factor in the the idenficitaiton of alcolholism, the younger the subject the more likely they are to be be diagnosed with alcoholism. As alcohol is a known contributor to early death, the fall of the incidence of alcoholism in older age groups may well be  \n",
    "\n",
    "<img align=\"center\" src=\"age.PNG\" width=400 >(NIAAA Publications, 2021)[1]\n",
    "\n",
    "Addional to age of subject (when diagnosed) is age of subject when they first started drinking. Those closer to the age of 15 when they first start drinking are more likely to delvelop a harmful relationship with alcohol. \n",
    "\n",
    "\n",
    "<img align=\"center\" src=\"onset.PNG\" width=400 >(NIAAA Publications, 2021)[2]\n"
   ]
  },
  {
   "cell_type": "markdown",
   "id": "31579b68-bbd8-45c4-b8e1-a2d018c2a2c5",
   "metadata": {},
   "source": [
    "\n"
   ]
  },
  {
   "cell_type": "markdown",
   "id": "b3a33de5-c41c-4494-a872-09410dde7c20",
   "metadata": {},
   "source": [
    "\n",
    "\n"
   ]
  },
  {
   "cell_type": "markdown",
   "id": "9257c3e9-866d-49a9-a8c9-6d48a4202aa7",
   "metadata": {},
   "source": [
    "### Social class\n",
    "Although people in higher social classes are known to be frequent and heavy drinkers they are less likely to be abusers of alcohol. It has been long observed that those in lower socio-economic classes are more likely to experience harm as a consquence of alcohol abuse.\n",
    "\n",
    "<img align=\"center\" src=\"Socio-eco.PNG\" width=400 >(WHO, 2021)\n",
    "\n",
    "In the above graphic gender is also shown and from the graphic it seems that regardless of gender social class is a greater overding factor in alcolholism."
   ]
  },
  {
   "cell_type": "markdown",
   "id": "570ea043-05f9-4cc0-9ecb-3133ea2787a0",
   "metadata": {
    "tags": []
   },
   "source": [
    "### Gender\n",
    "\n",
    "The graphic below suggests that males are more likely to be have higher incidences of heavy drinking than females. However, interestingly the graphic also show that after from the age 30-39 age group females are ever more less likley to have a high indicdence of alcohol consumption. Whilst with males from 20-29 the high incidence of drinking is more likey to rise until the 60-69 age group. This suggests that males are far more likley to be heavy drinkers than female and that that likelyhood increases until late middle age. \n",
    "\n",
    "<img align=\"center\" src=\"gender.PNG\" width=400 >(Shizumu etal, 2012)\n",
    "\n",
    "\n",
    "Incidence of heavy drinkers with a daily consumption exceeded 40 g of ethanol per day for females and 60 g of ethanol per day for males based on data in 2002from theNational Nutrition Survey in Japan.\n",
    "(Shizumu etal, 2012)\n",
    "\n",
    "\n"
   ]
  },
  {
   "cell_type": "markdown",
   "id": "7f09ee34-ee2e-4c24-8d4c-12cec8ec5377",
   "metadata": {},
   "source": [
    "### Generation of Simulated data\n",
    "The variables which I will generate a sythesised data set of a sample of diagnosied alcoholics with the following variables:\n",
    "\n",
    "- Age (of diagnosis)\n",
    "- Age (of onset of alcohol consumptoin)\n",
    "- Social Class\n",
    "- Gender\n",
    "\n",
    "\n",
    "\n",
    "In the first intance I will generate a series of numpy arrays for 1000 subjects for each of the variables I have chosen. I will then add each to a numpy array to a pandas dataframe which will give a sythesised sample with four variables where I have not allowed for the interplay between the variables.\n"
   ]
  },
  {
   "cell_type": "code",
   "execution_count": 59,
   "id": "4a360701-b44d-4a18-9117-289668582690",
   "metadata": {},
   "outputs": [],
   "source": [
    "#The following packages are used to create the simulated data sets\n",
    "from scipy.stats import skewnorm\n",
    "import matplotlib.pyplot as plt\n",
    "import numpy as np\n",
    "import pandas as pd\n",
    "#Create a pandas data frame with an array of IDs (separate to index)\n",
    "ids =np.arange(1,1001) # create a list of ids\n",
    "#add ids to dataset\n",
    "df_dataset= pd.DataFrame(ids, columns=['id'])"
   ]
  },
  {
   "cell_type": "markdown",
   "id": "2da59822-5dc5-4256-a2aa-892e55b79cc8",
   "metadata": {},
   "source": [
    "#### 1. Simulating Age of subject\n",
    "\n",
    "The following block of code has been adapted from (Horvitz, 2021). It generates a simulated set of ages of initial diagnosis of alcoholism.  It is a right skewed binomial distribution and seems to fit the distribution  of (NIAAA Publications, 2021)[1], age of diagnosis of alcoholic related conditions. Although not an exact fit, the distribution produces ages of diagnosis where subjects are more likely to be diganosed in their early twenties."
   ]
  },
  {
   "cell_type": "code",
   "execution_count": 60,
   "id": "1bdcb697-9516-463a-b7b8-758fc741b3db",
   "metadata": {},
   "outputs": [
    {
     "data": {
      "image/png": "[encoded data removed]",
      "text/plain": [
       "<Figure size 432x288 with 1 Axes>"
      ]
     },
     "metadata": {
      "needs_background": "light"
     },
     "output_type": "display_data"
    }
   ],
   "source": [
    "#from (Horvitz, 2021)\n",
    "\n",
    "numValues = 1000\n",
    "maxValue = 70# max age\n",
    "skewness = 8   #positive values are right skewed.\n",
    "\n",
    "#scipy to skew a nomral set of number to the right\n",
    "ages = skewnorm.rvs(a = skewness,loc=maxValue, size=numValues)  #Skewnorm function\n",
    "\n",
    "ages = ages - min(ages)      \n",
    "ages = ages / max(ages)      #Standadize all the values between 0 and 1. \n",
    "\n",
    "ages = ages * maxValue         #Multiply the standardized values by the maximum value.\n",
    "\n",
    "ages = ages.astype(int)        #Convert floats to int for ages\n",
    "#print(ages)\n",
    "#show skewed histogram\n",
    "plt.hist(ages, bins=11, density=False, color = 'grey', alpha=0.5)\n",
    "\n",
    "plt.show() \n",
    "\n",
    "#######\n",
    "#add to dataset\n",
    "df_dataset['Age'] = ages\n",
    "#print (df_dataset)"
   ]
  },
  {
   "cell_type": "markdown",
   "id": "4ee8f682-c34e-4969-b8b0-c635442f51a9",
   "metadata": {},
   "source": [
    "<img align=\"center\" src=\"age.PNG\" width=400 >(NIAAA Publications, 2021)[1]"
   ]
  },
  {
   "cell_type": "code",
   "execution_count": null,
   "id": "0e5e7b1b-18c5-4f13-96c5-8c3b725c597f",
   "metadata": {},
   "outputs": [],
   "source": [
    "#### 2. Simulating Age of onset"
   ]
  },
  {
   "cell_type": "code",
   "execution_count": null,
   "id": "73cfd4a1-7e19-46da-a2b8-5f615e647899",
   "metadata": {},
   "outputs": [],
   "source": [
    "https://numpy.org/doc/stable/reference/random/generated/numpy.random.gamma.html"
   ]
  },
  {
   "cell_type": "markdown",
   "id": "3fee57a2-6821-4bd7-81e0-25722fa69829",
   "metadata": {},
   "source": [
    "## References\n",
    "\n",
    "Beard E, Brown J, West R, Kaner E, Meier P, Michie S (2019) Associations between socio-economic factors and alcohol consumption: A population survey of adults in England. PLoS ONE 14(2): e0209442. https://doi.org/10.1371/journal.pone.0209442 pmid:30716098\n",
    "\n",
    "Drugsandalcohol.ie. 2021. [online] Available at: <https://www.drugsandalcohol.ie/25676/1/Understanding-the-relationship-between-poverty-and-alcohol-abuse-2.pdf> \n",
    "\n",
    "Euro.who.int. 2021. [online] Available at: <https://www.euro.who.int/__data/assets/pdf_file/0003/247629/Alcohol-and-Inequities.pdf> \n",
    "\n",
    "Horvitz, A., 2021. Create random numbers with left skewed probability distribution. [online] Stack Overflow. Available at: <https://stackoverflow.com/questions/24854965/create-random-numbers-with-left-skewed-probability-distribution> [Accessed 30 December 2021].\n",
    "\n",
    "Ichiro Shimizu, Mari Kamochi, Hideshi Yoshikawa and Yoshiyuki Nakayama (January 11th 2012). Gender Difference in Alcoholic Liver Disease, Trends in Alcoholic Liver Disease Research - Clinical and Scientific Aspects, Ichiro Shimizu, IntechOpen, DOI: 10.5772/27178. Available from: https://www.intechopen.com/chapters/25877\n",
    "\n",
    "Malibu, O., 2021. Alcoholism Causes And Risk Factors. [online] Addiction Center. Available at: <https://www.addictioncenter.com/alcohol/alcoholism-causes-risk-factors/> .\n",
    "\n",
    "Pubs.niaaa.nih.gov. 2021. NIAAA Publications. [online] Available at: <https://pubs.niaaa.nih.gov/publications/aa74/aa74.htm>.\n",
    "\n",
    "Pubs.niaaa.nih.gov. 2021. NIAAA Publications. [online] Available at: <https://pubs.niaaa.nih.gov/publications/arh40/29-44.htm> [2]\n"
   ]
  },
  {
   "cell_type": "code",
   "execution_count": null,
   "id": "6b838dcf-280d-4f7b-8c7d-53d3d63edbff",
   "metadata": {},
   "outputs": [],
   "source": []
  },
  {
   "cell_type": "code",
   "execution_count": null,
   "id": "08b5317b-19c2-4156-9795-0f4c2448764a",
   "metadata": {},
   "outputs": [],
   "source": []
  }
 ],
 "metadata": {
  "kernelspec": {
   "display_name": "Python 3",
   "language": "python",
   "name": "python3"
  },
  "language_info": {
   "codemirror_mode": {
    "name": "ipython",
    "version": 3
   },
   "file_extension": ".py",
   "mimetype": "text/x-python",
   "name": "python",
   "nbconvert_exporter": "python",
   "pygments_lexer": "ipython3",
   "version": "3.8.8"
  }
 },
 "nbformat": 4,
 "nbformat_minor": 5
}
