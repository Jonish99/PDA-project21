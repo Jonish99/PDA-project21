{
 "cells": [
  {
   "cell_type": "markdown",
   "id": "8e4f2f70-6414-4be7-9ecd-444b59d2925c",
   "metadata": {},
   "source": [
    "## GMIT Jon Ishaque G0030398244\n",
    "## Programming for Data Analysis Project 2021\n",
    "## An investigation into factors which may lead to alcoholism and simulation of a matching data set.\n",
    "\n",
    "• Choose a real-world phenomenon that can be measured and for which you could\n",
    "collect at least one-hundred data points across at least four different variables.\n",
    "\n",
    "• Investigate the types of variables involved, their likely distributions, and their\n",
    "relationships with each other.\n",
    "\n",
    "• Synthesise/simulate a data set as closely matching their properties as possible.\n",
    "\n",
    "• Detail your research and implement the simulation in a Jupyter notebook – the\n",
    "data set itself can simply be displayed in an output cell within the notebook.\n",
    "\n",
    "### Introduction\n",
    "For this the real world phenonemon I have chose to investigate factors influencing the diaganosis of alcolholism. I will investigate a range of factors that may cause alcoholism and simulate a dataset from that.\n",
    "The dataset will represent a simulated sample of subjects each of whom have been diagnosed as suffering from alcoholism. For each subject I will simulated a measure for the each given influecing factor, which follows a particular data distributin.\n",
    "\n",
    "### 1. Investigation into factors that may cause alcoholism.\n",
    "\"There is no singular cause of alcoholism. In fact, there are dozens of risk factors that play a role in the development of an alcohol addiction. These risk factors interact differently in every individual, leading to alcohol use disorders in some and not in others.\" (Malibu, 2021)\n",
    "\n",
    "### Factors that could contribute to alcoholims included:\n",
    "\n",
    "### 1.1 Familial/genetic factors - i.e. social or biological inheritance. \n",
    "For example, one or more parent had alcoholism.\n",
    "\n",
    "### 1.2  Age of diagnosis\n",
    "Age is an impontant factor in the the idenficitaiton of alcolholism, the younger the subject the more likely they are to be be diagnosed with alcoholism. As alcohol is a known contributor to early death, the fall of the incidence of alcoholism in older age groups may well be  \n",
    "\n",
    "<img align=\"center\" src=\"age.PNG\" width=400 >(NIAAA Publications, 2021)[1]\n",
    "\n",
    "Addional to age of subject (when diagnosed) is age of subject when they first started drinking (Onset). Those closer to the age of 15 when they first start drinking are more likely to delvelop a harmful relationship with alcohol. The graphic below seems to illustrate a gamma distribution.\n",
    "\n",
    "### 1.3  Age of onset of drinking\n",
    "The following graphic (NIAAA Publications, 2021) suggests there is a inverse correlation between onset of drinking and likelihood of diagnosis (at a later age). There are two things to notice, the sudden jumpy in incidence between ages 18 and 19. I would propose that this caused by a far greater number of the sample actually taking up drinking at that age, due to either change in circumstances such as leaving home or a change in the legal drinkage in their locaiton. The other thing is that the graphic only shows onset ages of up to age 21 years. To simulate a data set all ages would need to be considered. \n",
    "\n",
    "<img align=\"center\" src=\"onset1.PNG\" width=400 >(NIAAA Publications, 2021)[2]\n",
    "\n",
    "The next graphic does consider a wider age range of age of onset of drinking. It seems to confirm the very high likelihood of report of harmful drink after an early age start up until the mid-20 there after an ever continuing fall in the prevalence of harmful drink with a later \n",
    "\n",
    "<img align=\"center\" src=\"onset.PNG\" width=600 >(NIAAA Publications, 2021)[2]\n"
   ]
  },
  {
   "cell_type": "markdown",
   "id": "31579b68-bbd8-45c4-b8e1-a2d018c2a2c5",
   "metadata": {},
   "source": [
    "\n"
   ]
  },
  {
   "cell_type": "markdown",
   "id": "b3a33de5-c41c-4494-a872-09410dde7c20",
   "metadata": {},
   "source": [
    "\n",
    "\n"
   ]
  },
  {
   "cell_type": "markdown",
   "id": "9257c3e9-866d-49a9-a8c9-6d48a4202aa7",
   "metadata": {},
   "source": [
    "### 1.4 Social class\n",
    "Although people in higher social classes are known to be frequent and heavy drinkers they are less likely to be abusers of alcohol. It has been long observed that those in lower socio-economic classes are more likely to experience harm as a consquence of alcohol abuse. \"Lower socioeconomic status (SES) is associated with higher mortality for\n",
    "alcohol-attributable causes, despite lower socioeconomic groups often\n",
    "reporting lower levels of consumption\" (IAS, 2021)\n",
    "\n",
    "The graphic below from the IAS indicates social econmomic class by level of deprivation - an index of derived from a range of indicators.\n",
    "The graphic shows there is indeed a correlation between level of deprivation and prevalence of alcohol related hospital admissions. It also shows there is a difference in prevalence between males and females. The gradient of the change in of the five quintile is given which will help inform the simulated data generation.\n",
    "\n",
    "<img align=\"center\" src=\"Socio-eco.PNG\" width=500 >(IAS, 2021)\n",
    "\n",
    "In the above graphic gender is also shown and from the graphic it seems that regardless of gender social class is a greater overding factor in alcolholism"
   ]
  },
  {
   "cell_type": "markdown",
   "id": "570ea043-05f9-4cc0-9ecb-3133ea2787a0",
   "metadata": {
    "tags": []
   },
   "source": [
    "### 1.5  Gender\n",
    "\n",
    "The graphic below suggests that males are more likely to be have higher incidences of heavy drinking than females. However, interestingly the graphic also show that after from the age 30-39 age group females are ever more less likley to have a high indicdence of alcohol consumption. Whilst with males from 20-29 the high incidence of drinking is more likey to rise until the 60-69 age group. This suggests that males are far more likley to be heavy drinkers than female and that that likelyhood increases until late middle age. \n",
    "\n",
    "<img align=\"center\" src=\"gender.PNG\" width=400 >(Shizumu etal, 2012)\n",
    "\n",
    "\n",
    "Incidence of heavy drinkers with a daily consumption exceeded 40 g of ethanol per day for females and 60 g of ethanol per day for males based on data in 2002from theNational Nutrition Survey in Japan.\n",
    "(Shizumu etal, 2012)\n",
    "The above graphic shows two different distributions for males and females a skewed normal distribution for males and skewed right distribution for females.\n",
    "In the US, of 14.5 million people with alcohol use disorder over the age of 12, 9 million were male and 5.5 milion were female (Alcohol Facts and Statistics | National Institute on Alcohol Abuse and Alcoholism (NIAAA), 2021)\n"
   ]
  },
  {
   "cell_type": "markdown",
   "id": "7f09ee34-ee2e-4c24-8d4c-12cec8ec5377",
   "metadata": {},
   "source": [
    "### Generation of Simulated data\n",
    "The variables which I will generate a sythesised data set of a sample of diagnosied alcoholics with the following variables:\n",
    "\n",
    "- Age (of diagnosis)\n",
    "- Age (of onset of alcohol consumptoin)\n",
    "- Social Class\n",
    "- Gender\n",
    "\n",
    "\n",
    "\n",
    "In the first intance I will generate a series of numpy arrays for 1000 subjects for each of the variables I have chosen. I will then add each to a numpy array to a pandas dataframe which will give a sythesised sample with four variables where I have not allowed for the interplay between the variables.\n"
   ]
  },
  {
   "cell_type": "code",
   "execution_count": 32,
   "id": "4a360701-b44d-4a18-9117-289668582690",
   "metadata": {},
   "outputs": [],
   "source": [
    "#The following packages are used to create the simulated data sets\n",
    "import scipy.special as sps \n",
    "import matplotlib.pyplot as plt\n",
    "import numpy as np\n",
    "import pandas as pd\n",
    "#Create a pandas data frame with an array of IDs (separate to index)\n",
    "ids =np.arange(1,1001) # create a list of ids\n",
    "#add ids to dataset\n",
    "df_dataset= pd.DataFrame(ids, columns=['id'])\n",
    "\n",
    "seed = 11 "
   ]
  },
  {
   "cell_type": "markdown",
   "id": "2da59822-5dc5-4256-a2aa-892e55b79cc8",
   "metadata": {},
   "source": [
    "#### 2.1 Simulating Age of subject\n",
    "\n",
    "The following block of code has been adapted from (Horvitz, 2021). It generates a simulated set of ages of initial diagnosis of alcoholism.  A gamma distribtuion and seems to fit the distribution  of (NIAAA Publications, 2021)[1], age of diagnosis of alcoholic related conditions. Although not an exact fit, the distribution produces ages of diagnosis where subjects are more likely to be diganosed in their early twenties."
   ]
  },
  {
   "cell_type": "code",
   "execution_count": 33,
   "id": "1bdcb697-9516-463a-b7b8-758fc741b3db",
   "metadata": {},
   "outputs": [
    {
     "data": {
      "image/png": "[encoded data removed]",
      "text/plain": [
       "<Figure size 504x216 with 1 Axes>"
      ]
     },
     "metadata": {
      "needs_background": "light"
     },
     "output_type": "display_data"
    }
   ],
   "source": [
    "#from (Horvitz, 2021)\n",
    "\n",
    "numValues = 1000\n",
    "maxValue = 70# max age\n",
    "minAge =15\n",
    "\n",
    "\n",
    "#######\n",
    "#add to dataset\n",
    "#df_dataset['Age'] = ages\n",
    "#print (df_dataset)\n",
    "#check max and min values\n",
    "#print(df_dataset['Age'].min())\n",
    "#print(df_dataset['Age'].max())\n",
    "\n",
    "shape, scale = 2.5, 2.  # mean=4, std=2*sqrt(2)\n",
    "ages = np.random.gamma(shape, scale, 1000)\n",
    "ages = ages - min(ages)      \n",
    "ages = ages / max(ages)                         #Standadize all the values between 0 and 1. \n",
    "ages = ages * (maxValue-minAge)+minAge         #Multiply the standardized values by the maximum value.\n",
    "ages = ages.astype(int)\n",
    "\n",
    " \n",
    "count, bins, ignored = plt.hist(ages, 18, density=False)\n",
    "y = bins**(shape-1)*(np.exp(-bins/scale) /  \n",
    "                     (sps.gamma(shape)*scale**shape))\n",
    "plt.title(\"Simulated distribution for Age of Diagnosis of alcoholism\")\n",
    "plt.plot(bins, y)  \n",
    "plt.show()\n",
    "\n",
    "df_dataset['Age'] = ages\n",
    "#print (df_dataset)"
   ]
  },
  {
   "cell_type": "markdown",
   "id": "4ee8f682-c34e-4969-b8b0-c635442f51a9",
   "metadata": {},
   "source": [
    "<img align=\"center\" src=\"age.PNG\" width=400 >(NIAAA Publications, 2021)[1]"
   ]
  },
  {
   "cell_type": "markdown",
   "id": "a89471f1-a568-4ff1-9660-b2f03cc7f234",
   "metadata": {},
   "source": [
    "#### 2.2 Simulating Age of onset of drinking\n",
    "\n",
    "The distribution for the age of onset of drinking in diagnosed subjects seems to suggest very shallow exponential curve.\n",
    "I will simulate and exponential data set with endpoints between agees 15 and 70.\n",
    "I have adapted code from (Unknown, 2021)[1]\n"
   ]
  },
  {
   "cell_type": "code",
   "execution_count": 34,
   "id": "a474d0a5-7887-45f4-9c55-905729e098d6",
   "metadata": {},
   "outputs": [
    {
     "data": {
      "image/png": "[encoded data removed]",
      "text/plain": [
       "<Figure size 504x216 with 1 Axes>"
      ]
     },
     "metadata": {
      "needs_background": "light"
     },
     "output_type": "display_data"
    }
   ],
   "source": [
    "#set start and end points.\n",
    "a = -np.log(15)\n",
    "b = -np.log(70)\n",
    "onsets = np.exp(-(np.random.rand(1000)*(b-a) + a))\n",
    "#print (onsets)\n",
    "#convert to integers\n",
    "onsets=onsets.astype(int)\n",
    "plt.rcParams['figure.figsize'] = [7, 3]\n",
    "plt.xlabel('Onset age of drinking')\n",
    "plt.hist(onsets, 14, density = False)\n",
    "plt.title(\"Simulated distribution of age of onset of drinking of diagnosed alcoholism\")\n",
    "plt.show()\n",
    "\n",
    "#######\n",
    "#add to dataset\n",
    "df_dataset['Onset'] = onsets\n",
    "#print (df_dataset)\n",
    "#Viewing the dataset it can be observed that there are diagnosis ages younger than onset age. This will require a rule\n",
    "\n"
   ]
  },
  {
   "cell_type": "markdown",
   "id": "a2e718d6-9448-440c-b81f-234698ef2a4f",
   "metadata": {},
   "source": [
    "<img align=\"center\" src=\"onset.PNG\" width=600 >(NIAAA Publications, 2021)[2] example shown for comparison."
   ]
  },
  {
   "cell_type": "markdown",
   "id": "5ad87c39-2a1e-4d70-9a67-08a7f250afff",
   "metadata": {},
   "source": [
    "#### 2.3 Simulating Social Class of subjects"
   ]
  },
  {
   "cell_type": "code",
   "execution_count": 35,
   "id": "238e7adb-3220-4923-ad18-bbbdf56e0a78",
   "metadata": {},
   "outputs": [],
   "source": [
    "#f = np.array([1, 2, 4, 7, 11, 16], dtype=float)\n",
    "#np.gradient(f)"
   ]
  },
  {
   "cell_type": "code",
   "execution_count": 36,
   "id": "10af4e9b-3453-4f7e-9571-1685e5600c04",
   "metadata": {},
   "outputs": [
    {
     "data": {
      "text/plain": [
       "<AxesSubplot:title={'center':'Simulated data from subject alochol diagnosis and Deprivation Index(males)'}, xlabel='Deprivation Quintile', ylabel='Freq'>"
      ]
     },
     "execution_count": 36,
     "metadata": {},
     "output_type": "execute_result"
    },
    {
     "data": {
      "image/png": "[encoded data removed]",
      "text/plain": [
       "<Figure size 504x216 with 1 Axes>"
      ]
     },
     "metadata": {
      "needs_background": "light"
     },
     "output_type": "display_data"
    }
   ],
   "source": [
    "rng = np.random.default_rng(seed) \n",
    "#set labels, \n",
    "arrDPQ = ['Q1','Q2','Q3','Q4','Q5']\n",
    "\n",
    "'''Function to get the probabilty of x points from a given gradient'''\n",
    "\n",
    "def getPforGrad(size,grad):\n",
    "    arr =np.empty(size)\n",
    "    gr = grad # gradient \n",
    "    i=0\n",
    "    tot = 0    \n",
    "    while i < size:\n",
    "        num = gr *(i+1)\n",
    "        arr[i] = num\n",
    "        tot = tot + num    \n",
    "        i=i+1   \n",
    "    P = []\n",
    "    i=0\n",
    "    while i < size:\n",
    "        num =  arr[i]/tot\n",
    "        P.append(num) \n",
    "        i=i+1\n",
    "    return P\n",
    "#call get PforGrad with a size of 5 and gradient of 2.6\n",
    "maleP=getPforGrad(5,2.6)\n",
    "\n",
    "#print(maleP)\n",
    "#Create an simulated dataset if male alcoholic diagnosis and their DP index\n",
    "DPs= rng.choice(arrDPQ, 1000, replace=True, p=maleP)  \n",
    "\n",
    "#plt.hist(DPs)\n",
    "plt.title(\"Simulated data from subject alochol diagnosis and Deprivation Index(males)\")\n",
    "plt.xlabel(\"Deprivation Quintile\")\n",
    "plt.ylabel(\"Freq\")\n",
    "#use a pd plot to sort x axis.\n",
    "pd.Series(DPs).value_counts().sort_index().plot(kind='bar')"
   ]
  },
  {
   "cell_type": "markdown",
   "id": "0bbc6d7b-1e4a-40d5-92bb-9f598fa943be",
   "metadata": {},
   "source": [
    "The simulated data from subjec alcohol follows the gradient determined by (IAS, 2021)"
   ]
  },
  {
   "cell_type": "code",
   "execution_count": 37,
   "id": "507e8460-9b52-4d1e-82c7-1aa315f9b845",
   "metadata": {},
   "outputs": [],
   "source": [
    "##add the data to the dataset\n",
    "df_dataset['DPindex'] = DPs\n",
    "#print (df_dataset)\n"
   ]
  },
  {
   "cell_type": "markdown",
   "id": "f4f7ea5e-558a-4f8d-9123-11b0a8b5897c",
   "metadata": {},
   "source": [
    "<img align=\"center\" src=\"Socio-eco.PNG\" width=500 >(IAS, 2021)"
   ]
  },
  {
   "cell_type": "markdown",
   "id": "ae2d03d9-5dce-4be9-961d-f17e680951a7",
   "metadata": {},
   "source": [
    "#### 2.4 Simulating gender of subjects\n",
    "Graphics above illustrate that gender is dependent on age. For this reason, I will determine gender with age\n",
    "\n",
    "People Ages 12 and Older: According to the 2019 NSDUH, 14.5 million (nearly 15 million) people ages 12 and older7 (5.3 percent of this age group8) had AUD. This number includes 9.0 million men7 (6.8 percent of men in this age group8) and 5.5 million women7 (3.9 percent of women in this age group8)\n",
    "\n"
   ]
  },
  {
   "cell_type": "code",
   "execution_count": 38,
   "id": "599ae8ee-0aeb-4e4f-929e-e51ac617adb3",
   "metadata": {},
   "outputs": [],
   "source": [
    "#probability for each gender\n",
    "P_m = round(9/14.5,2)\n",
    "P_f = round(5.5/14.5,2)\n",
    "\n",
    "#choice method of random with M and F probabilities\n",
    "gnd= rng.choice(['M','F'], 1000, replace=True, p=[P_m,P_f])  \n",
    "##add the data to the dataset\n",
    "df_dataset['gender'] = gnd\n",
    "#x= rng.choice(['M','F'], 1, replace=True, p=[P_m,P_f])\n",
    "\n"
   ]
  },
  {
   "cell_type": "markdown",
   "id": "5f972ee4-df4b-43c7-b2f9-7113bee0f91c",
   "metadata": {},
   "source": [
    "#### 2.5 The simulated dataset.\n",
    "Data has been simulated and for four variables and applied to the 1000 data subjects.\n",
    "print (df_dataset)\n",
    "However, the simulated data for each variable has been generated independently. It has already been shown there a relationship between the variables, for example the small but noticeible difference in the increase in alcohol abuse and with social deprivation and how it increase less for females than males. Onset of age of drinking cannot be greater than diagnosis and one would expect gap between the two. \n",
    "\n",
    "\n"
   ]
  },
  {
   "cell_type": "code",
   "execution_count": 26,
   "id": "aa3f1353-3400-4047-846c-6b61049325a1",
   "metadata": {},
   "outputs": [
    {
     "name": "stdout",
     "output_type": "stream",
     "text": [
      "       id  Age  Onset DPindex gender\n",
      "0       1   30     28      Q2      F\n",
      "1       2   24     33      Q4      M\n",
      "2       3   23     21      Q4      M\n",
      "3       4   36     39      Q1      M\n",
      "4       5   29     29      Q2      M\n",
      "..    ...  ...    ...     ...    ...\n",
      "995   996   22     36      Q1      M\n",
      "996   997   18     37      Q5      M\n",
      "997   998   34     33      Q5      F\n",
      "998   999   20     20      Q5      F\n",
      "999  1000   30     17      Q4      M\n",
      "\n",
      "[1000 rows x 5 columns]\n"
     ]
    }
   ],
   "source": [
    "print(df_dataset)"
   ]
  },
  {
   "cell_type": "markdown",
   "id": "16f26ae1-e761-408a-b897-da7d675589aa",
   "metadata": {},
   "source": [
    "#### 2.5 Simulating a dataset with variable working together\n",
    "I will first look at determining the gender based on age and then deprivation index based on gender.\n",
    "I will need to determine the probiblity of Male/Female in any agegroup and then apply this to function to set the gender based on age.\n",
    "<img align=\"center\" src=\"gender.PNG\" width=400 >(Shizumu etal, 2012)\n"
   ]
  },
  {
   "cell_type": "code",
   "execution_count": 54,
   "id": "dfa5c9ef-712c-4596-be2c-ef9056525353",
   "metadata": {},
   "outputs": [],
   "source": [
    "\n",
    "'''I have estimated the M/F probabilities based on the above graphic'''\n",
    "A_f = 2.9/6.9 #WILD guess for less that 2-\n",
    "A_m = 1 - Af\n",
    "\n",
    "B_f = 2.9/7.9 \n",
    "B_m = 1 - Bf\n",
    "\n",
    "C_f = 2.9/10.4\n",
    "C_m = 1 - Cf\n",
    "\n",
    "D_f = 2.8/13.3\n",
    "D_m = 1 - Df\n",
    "\n",
    "E_f  =2.7/14.2\n",
    "E_m = 1 - Ef\n",
    "\n",
    "F_f = 1.8/9.6\n",
    "F_m = 1 - Ff\n",
    "\n",
    "G_f = .5/2\n",
    "G_m = 1 - Gf\n",
    "\n"
   ]
  },
  {
   "cell_type": "code",
   "execution_count": 56,
   "id": "a1f62521-b11f-4eb7-ad7d-6e64e22eb527",
   "metadata": {},
   "outputs": [
    {
     "name": "stdout",
     "output_type": "stream",
     "text": [
      "       id  Age  Onset DPindex gender\n",
      "0       1   17     63    [Q5]    [F]\n",
      "1       2   19     30    [Q5]    [F]\n",
      "2       3   31     20    [Q5]    [M]\n",
      "3       4   55     48    [Q3]    [M]\n",
      "4       5   23     56    [Q2]    [M]\n",
      "..    ...  ...    ...     ...    ...\n",
      "995   996   31     30    [Q5]    [M]\n",
      "996   997   27     23    [Q1]    [F]\n",
      "997   998   17     45    [Q4]    [F]\n",
      "998   999   38     24    [Q2]    [M]\n",
      "999  1000   17     30    [Q4]    [F]\n",
      "\n",
      "[1000 rows x 5 columns]\n"
     ]
    }
   ],
   "source": [
    "#Get DP probability for males and females\n",
    "maleP=getPforGrad(5,2.6)femaleP=getPforGrad(5,2.4)\n",
    "\n",
    "'''The following loop interates through the dataframe, for each age category calls a random funcition to\n",
    "set the gender based on P for that age group and then from gender it will determine the Deprivation Quintile for \n",
    "that subject''' \n",
    "for ind in df_dataset.index:\n",
    "    \n",
    "    #print(df_dataset['Age'][ind])\n",
    "    A=int(df_dataset['Age'][ind])\n",
    "    if  A < 20:\n",
    "        g=rng.choice(['M','F'], 1, replace=True, p=[A_m,A_f]) \n",
    "        df_dataset.at[ind,'gender'] = g\n",
    "        if g =='M':\n",
    "            df_dataset.at[ind,'DPindex'] =rng.choice(arrDPQ, 1, replace=True, p=maleP) \n",
    "        else:\n",
    "            df_dataset.at[ind,'DPindex'] =rng.choice(arrDPQ, 1, replace=True, p=femaleP)            \n",
    "    \n",
    "    elif A < 30:\n",
    "        g=rng.choice(['M','F'], 1, replace=True, p=[B_m,B_f]) \n",
    "        df_dataset.at[ind,'gender'] = g\n",
    "        if g =='M':\n",
    "            df_dataset.at[ind,'DPindex'] =rng.choice(arrDPQ, 1, replace=True, p=maleP) \n",
    "        else:\n",
    "            df_dataset.at[ind,'DPindex'] =rng.choice(arrDPQ, 1, replace=True, p=femaleP)              \n",
    "    elif A < 40: \n",
    "        g=rng.choice(['M','F'], 1, replace=True, p=[C_m,C_f]) \n",
    "        df_dataset.at[ind,'gender'] = g\n",
    "        if g =='M':\n",
    "            df_dataset.at[ind,'DPindex'] =rng.choice(arrDPQ, 1, replace=True, p=maleP) \n",
    "        else:\n",
    "            df_dataset.at[ind,'DPindex'] =rng.choice(arrDPQ, 1, replace=True, p=femaleP)  \n",
    "    elif A < 50: \n",
    "        g=rng.choice(['M','F'], 1, replace=True, p=[D_m,D_f]) \n",
    "        df_dataset.at[ind,'gender'] = g\n",
    "        if g =='M':\n",
    "            df_dataset.at[ind,'DPindex'] =rng.choice(arrDPQ, 1, replace=True, p=maleP) \n",
    "        else:\n",
    "            df_dataset.at[ind,'DPindex'] =rng.choice(arrDPQ, 1, replace=True, p=femaleP)  \n",
    "    elif A < 60: \n",
    "        g=rng.choice(['M','F'], 1, replace=True, p=[E_m,E_f]) \n",
    "        df_dataset.at[ind,'gender'] = g\n",
    "        if g =='M':\n",
    "            df_dataset.at[ind,'DPindex'] =rng.choice(arrDPQ, 1, replace=True, p=maleP) \n",
    "        else:\n",
    "            df_dataset.at[ind,'DPindex'] =rng.choice(arrDPQ, 1, replace=True, p=femaleP)  \n",
    "    elif A < 70: \n",
    "        g=rng.choice(['M','F'], 1, replace=True, p=[F_m,F_f]) \n",
    "        df_dataset.at[ind,'gender'] = g\n",
    "        if g =='M':\n",
    "            df_dataset.at[ind,'DPindex'] =rng.choice(arrDPQ, 1, replace=True, p=maleP) \n",
    "        else:\n",
    "            df_dataset.at[ind,'DPindex'] =rng.choice(arrDPQ, 1, replace=True, p=femaleP) \n",
    "    else:\n",
    "        g=rng.choice(['M','F'], 1, replace=True, p=[G_m,G_f]) \n",
    "        df_dataset.at[ind,'gender'] = g\n",
    "        if g =='M':\n",
    "            df_dataset.at[ind,'DPindex'] =rng.choice(arrDPQ, 1, replace=True, p=maleP) \n",
    "        else:\n",
    "            df_dataset.at[ind,'DPindex'] =rng.choice(arrDPQ, 1, replace=True, p=femaleP)  \n",
    "            \n",
    "\n"
   ]
  },
  {
   "cell_type": "markdown",
   "id": "add0a698-f722-4570-a16e-2aa46496c6a6",
   "metadata": {},
   "source": [
    "The data set now has some interplay between the variables. However, I have not been able to get the onset age greater than the start age. Because I use an exponential function on the whole series of onset age and also the whole series of diagnosis age, I am not able to work them together."
   ]
  },
  {
   "cell_type": "code",
   "execution_count": null,
   "id": "f4c47e71-3bc8-45c0-a229-29e29ed4ae21",
   "metadata": {},
   "outputs": [],
   "source": [
    "print (df_dataset)"
   ]
  },
  {
   "cell_type": "markdown",
   "id": "cf3cd8f4-c825-4eb7-9197-62ed74cb949a",
   "metadata": {},
   "source": [
    "#### Closing Remarks\n",
    "\n",
    "1. My research on each variable drew on articles from different countries, the interaction between variale will be different in different countries. Ideally I would have found a dataset with all the variables I chose.\n",
    "2. The research tells that patterns of drinking are constantly changing and particularly male and female relationships with alochol.\n"
   ]
  },
  {
   "cell_type": "markdown",
   "id": "3fee57a2-6821-4bd7-81e0-25722fa69829",
   "metadata": {},
   "source": [
    "## References\n",
    "\n",
    "Beard E, Brown J, West R, Kaner E, Meier P, Michie S (2019) Associations between socio-economic factors and alcohol consumption: A population survey of adults in England. PLoS ONE 14(2): e0209442. https://doi.org/10.1371/journal.pone.0209442 pmid:30716098\n",
    "\n",
    "Drugsandalcohol.ie. 2021. [online] Available at: <https://www.drugsandalcohol.ie/25676/1/Understanding-the-relationship-between-poverty-and-alcohol-abuse-2.pdf> \n",
    "\n",
    "Euro.who.int. 2021. [online] Available at: <https://www.euro.who.int/__data/assets/pdf_file/0003/247629/Alcohol-and-Inequities.pdf> \n",
    "\n",
    "Horvitz, A., 2021. Create random numbers with left skewed probability distribution. [online] Stack Overflow. Available at: <https://stackoverflow.com/questions/24854965/create-random-numbers-with-left-skewed-probability-distribution> \n",
    "\n",
    "Ias.org.uk. 2021. [online] Available at: <https://www.ias.org.uk/uploads/pdf/IAS%20reports/IAS%20report%20Alcohol%20and%20health%20inequalities%20FULL.pdf>\n",
    "\n",
    "Ichiro Shimizu, Mari Kamochi, Hideshi Yoshikawa and Yoshiyuki Nakayama (January 11th 2012). Gender Difference in Alcoholic Liver Disease, Trends in Alcoholic Liver Disease Research - Clinical and Scientific Aspects, Ichiro Shimizu, IntechOpen, DOI: 10.5772/27178. Available from: https://www.intechopen.com/chapters/25877\n",
    "\n",
    "Malibu, O., 2021. Alcoholism Causes And Risk Factors. [online] Addiction Center. Available at: <https://www.addictioncenter.com/alcohol/alcoholism-causes-risk-factors/> .\n",
    "\n",
    "Niaaa.nih.gov. 2022. Alcohol Facts and Statistics | National Institute on Alcohol Abuse and Alcoholism (NIAAA). [online] Available at: <https://www.niaaa.nih.gov/publications/brochures-and-fact-sheets/alcohol-facts-and-statistics> [Accessed 3 January 2022].\n",
    "\n",
    "Pubs.niaaa.nih.gov. 2021. NIAAA Publications. [online] Available at: <https://pubs.niaaa.nih.gov/publications/aa74/aa74.htm>.\n",
    "\n",
    "Pubs.niaaa.nih.gov. 2021. NIAAA Publications. [online] Available at: <https://pubs.niaaa.nih.gov/publications/arh40/29-44.htm> [2]\n",
    "\n",
    "\n",
    "\n",
    "Unknown, 2021. How to generate random numbers at the tails of an exponential distribution?. [online] Stack Overflow. Available at: <https://stackoverflow.com/questions/69172510/how-to-generate-random-numbers-at-the-tails-of-an-exponential-distribution> [Accessed 30 December 2021].[1]"
   ]
  },
  {
   "cell_type": "code",
   "execution_count": null,
   "id": "6b838dcf-280d-4f7b-8c7d-53d3d63edbff",
   "metadata": {},
   "outputs": [],
   "source": []
  },
  {
   "cell_type": "code",
   "execution_count": null,
   "id": "08b5317b-19c2-4156-9795-0f4c2448764a",
   "metadata": {},
   "outputs": [],
   "source": []
  }
 ],
 "metadata": {
  "kernelspec": {
   "display_name": "Python 3",
   "language": "python",
   "name": "python3"
  },
  "language_info": {
   "codemirror_mode": {
    "name": "ipython",
    "version": 3
   },
   "file_extension": ".py",
   "mimetype": "text/x-python",
   "name": "python",
   "nbconvert_exporter": "python",
   "pygments_lexer": "ipython3",
   "version": "3.8.8"
  }
 },
 "nbformat": 4,
 "nbformat_minor": 5
}
